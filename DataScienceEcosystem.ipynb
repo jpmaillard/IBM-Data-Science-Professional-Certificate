{
 "cells": [
  {
   "cell_type": "markdown",
   "id": "cfbccc40-1388-4831-bad5-f1278e734b0b",
   "metadata": {},
   "source": [
    "# Data Science Tools and Ecosystem"
   ]
  },
  {
   "cell_type": "markdown",
   "id": "2dedcb47-47e8-4368-8872-e7f831e9add8",
   "metadata": {},
   "source": [
    "In this notebook, Data Science Tools and Ecosystems are summarized."
   ]
  },
  {
   "cell_type": "markdown",
   "id": "91cb9c2e-5d04-457e-94a7-98e6fb1cf3b6",
   "metadata": {
    "tags": []
   },
   "source": [
    "Some of the popular languages that Data Scientists use are:\n",
    "\n",
    "1. R\n",
    "2. Python\n",
    "3. Julia\n",
    "4. Java"
   ]
  },
  {
   "cell_type": "markdown",
   "id": "21778c3e-a4ec-45cb-8eb1-ea142cd46d3e",
   "metadata": {},
   "source": [
    "Some of the commonly used libraries used by Data Scientists include:\n",
    "\n",
    "* ggplot\n",
    "* dplyr\n",
    "* Panda\n",
    "* NumPy"
   ]
  },
  {
   "cell_type": "markdown",
   "id": "e4bb2700-cdb3-4d0a-9ce8-5f51c254e1f1",
   "metadata": {},
   "source": [
    "| Data Science Tools |\n",
    "----------------------\n",
    "|1. RStudio |\n",
    "|2. Jupyter |\n",
    "|3. KNIME |"
   ]
  },
  {
   "cell_type": "markdown",
   "id": "a8997679-e553-4bda-8ba1-85ffe741dc8d",
   "metadata": {},
   "source": [
    "### Below are a few examples of evaluating arithmetic expressions in Python"
   ]
  },
  {
   "cell_type": "code",
   "execution_count": 2,
   "id": "fa3d395b-509d-4636-ae44-d422fd5da750",
   "metadata": {
    "tags": []
   },
   "outputs": [
    {
     "data": {
      "text/plain": [
       "17"
      ]
     },
     "execution_count": 2,
     "metadata": {},
     "output_type": "execute_result"
    }
   ],
   "source": [
    "# this is a simple arithmetic expression to multiply then add integers.\n",
    "\n",
    "(3 * 4) + 5"
   ]
  },
  {
   "cell_type": "code",
   "execution_count": 4,
   "id": "38cb4600-6375-49e5-a07b-bcc9e23fd43a",
   "metadata": {
    "tags": []
   },
   "outputs": [
    {
     "data": {
      "text/plain": [
       "3.3333333333333335"
      ]
     },
     "execution_count": 4,
     "metadata": {},
     "output_type": "execute_result"
    }
   ],
   "source": [
    "# This will convert 200 minutes to hours by dividing by 60\n",
    "\n",
    "200/60"
   ]
  },
  {
   "cell_type": "markdown",
   "id": "7d548428-a171-4a08-9517-0cd83ed93ca5",
   "metadata": {},
   "source": [
    "**Objectives:**\n",
    "\n",
    "* How to create a jupyter notebook\n",
    "* How to add code (python) and text (Markdown) to a notebook\n",
    "* What are some of the main tool used by data scientists\n",
    "* List the main most popular languages used in data science\n",
    "* Basic arithmetic expressions in Python"
   ]
  },
  {
   "cell_type": "markdown",
   "id": "f20d9723-fa9f-4951-81a3-2ed68c90f5cf",
   "metadata": {},
   "source": [
    "## Author\n",
    "Jean-Philippe Maillard"
   ]
  },
  {
   "cell_type": "code",
   "execution_count": null,
   "id": "045a55ba-089f-4c6e-8cb9-7648e9b5df36",
   "metadata": {},
   "outputs": [],
   "source": []
  }
 ],
 "metadata": {
  "kernelspec": {
   "display_name": "Python",
   "language": "python",
   "name": "conda-env-python-py"
  },
  "language_info": {
   "codemirror_mode": {
    "name": "ipython",
    "version": 3
   },
   "file_extension": ".py",
   "mimetype": "text/x-python",
   "name": "python",
   "nbconvert_exporter": "python",
   "pygments_lexer": "ipython3",
   "version": "3.7.12"
  }
 },
 "nbformat": 4,
 "nbformat_minor": 5
}
